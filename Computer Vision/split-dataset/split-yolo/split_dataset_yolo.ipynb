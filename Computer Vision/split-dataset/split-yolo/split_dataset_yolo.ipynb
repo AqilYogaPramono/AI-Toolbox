{
 "cells": [
  {
   "cell_type": "code",
   "execution_count": 52,
   "id": "e695f58d",
   "metadata": {},
   "outputs": [
    {
     "name": "stdout",
     "output_type": "stream",
     "text": [
      "Requirement already satisfied: scikit-learn in c:\\users\\aqily\\appdata\\local\\programs\\python\\python313\\lib\\site-packages (1.7.0)\n",
      "Requirement already satisfied: numpy>=1.22.0 in c:\\users\\aqily\\appdata\\local\\programs\\python\\python313\\lib\\site-packages (from scikit-learn) (2.2.6)\n",
      "Requirement already satisfied: scipy>=1.8.0 in c:\\users\\aqily\\appdata\\local\\programs\\python\\python313\\lib\\site-packages (from scikit-learn) (1.15.3)\n",
      "Requirement already satisfied: joblib>=1.2.0 in c:\\users\\aqily\\appdata\\local\\programs\\python\\python313\\lib\\site-packages (from scikit-learn) (1.5.0)\n",
      "Requirement already satisfied: threadpoolctl>=3.1.0 in c:\\users\\aqily\\appdata\\local\\programs\\python\\python313\\lib\\site-packages (from scikit-learn) (3.6.0)\n"
     ]
    }
   ],
   "source": [
    "!pip install scikit-learn"
   ]
  },
  {
   "cell_type": "code",
   "execution_count": 53,
   "id": "c5d8e697",
   "metadata": {},
   "outputs": [],
   "source": [
    "import os\n",
    "import shutil\n",
    "import random\n",
    "from sklearn.model_selection import train_test_split"
   ]
  },
  {
   "cell_type": "code",
   "execution_count": 54,
   "id": "d0d5b979",
   "metadata": {},
   "outputs": [],
   "source": [
    "#Input dataset directory (should contain 'images/' and 'labels/')\n",
    "input_dir = \"../../../Testing/Input/domino dataset\"\n",
    "\n",
    "#Output folder (result will go into subfolder with same name as input folder)\n",
    "output_base = \"../../../Testing/Output\"\n",
    "\n",
    "# Split ratios (must total 1.0)\n",
    "train_ratio = 0.7\n",
    "val_ratio   = 0.15\n",
    "test_ratio  = 0.15\n",
    "\n",
    "img_exts = ['.jpg', '.png', '.jpeg']"
   ]
  },
  {
   "cell_type": "code",
   "execution_count": 55,
   "id": "8ccf1861",
   "metadata": {},
   "outputs": [
    {
     "name": "stdout",
     "output_type": "stream",
     "text": [
      "Found 57 image files in: ../../../Testing/Input/domino dataset\\images\n",
      "Found 57 label files in: ../../../Testing/Input/domino dataset\\labels\n",
      "Output base directory exists: ../../../Testing/Output\n"
     ]
    }
   ],
   "source": [
    "image_dir = os.path.join(input_dir, 'images')\n",
    "label_dir = os.path.join(input_dir, 'labels')\n",
    "\n",
    "if not os.path.isdir(image_dir):\n",
    "    raise FileNotFoundError(\"Image directory not found:\", image_dir)\n",
    "if not os.path.isdir(label_dir):\n",
    "    raise FileNotFoundError(\"Label directory not found:\", label_dir)\n",
    "\n",
    "if not os.path.isdir(output_base):\n",
    "    raise FileNotFoundError(\"Output base directory not found:\", output_base)\n",
    "\n",
    "image_files = [f for f in os.listdir(image_dir) if os.path.splitext(f)[1].lower() in img_exts]\n",
    "label_files = [f for f in os.listdir(label_dir) if f.lower().endswith('.txt')]\n",
    "\n",
    "print(\"Found\", len(image_files), \"image files in:\", image_dir)\n",
    "print(\"Found\", len(label_files), \"label files in:\", label_dir)\n",
    "print(\"Output base directory exists:\", output_base)\n"
   ]
  },
  {
   "cell_type": "code",
   "execution_count": 56,
   "id": "661285f3",
   "metadata": {},
   "outputs": [],
   "source": [
    "dataset_name = os.path.basename(os.path.normpath(input_dir))\n",
    "output_dir = os.path.join(output_base, dataset_name)\n",
    "\n",
    "images_dir = os.path.join(input_dir, \"images\")\n",
    "labels_dir = os.path.join(input_dir, \"labels\")\n",
    "\n",
    "subsets = [\"train\", \"val\", \"test\"]\n",
    "for subset in subsets:\n",
    "    os.makedirs(os.path.join(output_dir, subset, \"images\"), exist_ok=True)\n",
    "    os.makedirs(os.path.join(output_dir, subset, \"labels\"), exist_ok=True)\n"
   ]
  },
  {
   "cell_type": "code",
   "execution_count": 57,
   "id": "81c1a390",
   "metadata": {},
   "outputs": [
    {
     "name": "stdout",
     "output_type": "stream",
     "text": [
      "Total images found: 57\n"
     ]
    }
   ],
   "source": [
    "all_images = [\n",
    "    f for f in os.listdir(images_dir)\n",
    "    if os.path.splitext(f)[1].lower() in img_exts\n",
    "]\n",
    "\n",
    "if not all_images:\n",
    "    raise ValueError(\"No image files found in:\", images_dir)\n",
    "\n",
    "print(\"Total images found:\",len(all_images))"
   ]
  },
  {
   "cell_type": "code",
   "execution_count": 58,
   "id": "136333b3",
   "metadata": {},
   "outputs": [
    {
     "name": "stdout",
     "output_type": "stream",
     "text": [
      "train: 39 images\n",
      "val: 9 images\n",
      "test: 9 images\n"
     ]
    }
   ],
   "source": [
    "train_imgs, temp_imgs = train_test_split(all_images, test_size=(1 - train_ratio), random_state=42)\n",
    "\n",
    "val_size = val_ratio / (val_ratio + test_ratio)\n",
    "val_imgs, test_imgs = train_test_split(temp_imgs, test_size=(1 - val_size), random_state=42)\n",
    "\n",
    "splits = {\"train\": train_imgs, \"val\": val_imgs, \"test\": test_imgs}\n",
    "\n",
    "for split, files in splits.items():\n",
    "    print(f\"{split}: {len(files)} images\")"
   ]
  },
  {
   "cell_type": "code",
   "execution_count": 59,
   "id": "fd9d20b0",
   "metadata": {},
   "outputs": [
    {
     "name": "stdout",
     "output_type": "stream",
     "text": [
      "Dataset split and copied successfully!\n",
      "Output saved in: ../../../Testing/Output\\domino dataset\n"
     ]
    }
   ],
   "source": [
    "def copy_files(file_list, subset):\n",
    "    for fname in file_list:\n",
    "        name, ext = os.path.splitext(fname)\n",
    "\n",
    "        src_img = os.path.join(images_dir, fname)\n",
    "        dst_img = os.path.join(output_dir, subset, \"images\", fname)\n",
    "        shutil.copy2(src_img, dst_img)\n",
    "\n",
    "        label_file = name + \".txt\"\n",
    "        src_lbl = os.path.join(labels_dir, label_file)\n",
    "        dst_lbl = os.path.join(output_dir, subset, \"labels\", label_file)\n",
    "\n",
    "        if os.path.exists(src_lbl):\n",
    "            shutil.copy2(src_lbl, dst_lbl)\n",
    "        else:\n",
    "            print(f\"Warning: Label not found for {fname}\")\n",
    "\n",
    "for subset, file_list in splits.items():\n",
    "    copy_files(file_list, subset)\n",
    "\n",
    "print(\"Dataset split and copied successfully!\")\n",
    "print(\"Output saved in:\", output_dir)"
   ]
  }
 ],
 "metadata": {
  "kernelspec": {
   "display_name": "Python 3",
   "language": "python",
   "name": "python3"
  },
  "language_info": {
   "codemirror_mode": {
    "name": "ipython",
    "version": 3
   },
   "file_extension": ".py",
   "mimetype": "text/x-python",
   "name": "python",
   "nbconvert_exporter": "python",
   "pygments_lexer": "ipython3",
   "version": "3.13.1"
  }
 },
 "nbformat": 4,
 "nbformat_minor": 5
}
