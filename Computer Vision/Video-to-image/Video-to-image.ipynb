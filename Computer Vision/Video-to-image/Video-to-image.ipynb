{
 "cells": [
  {
   "cell_type": "code",
   "execution_count": 15,
   "id": "fe6eaca5",
   "metadata": {},
   "outputs": [
    {
     "name": "stdout",
     "output_type": "stream",
     "text": [
      "Requirement already satisfied: opencv-python in c:\\users\\aqily\\appdata\\local\\programs\\python\\python313\\lib\\site-packages (4.11.0.86)\n",
      "Requirement already satisfied: numpy in c:\\users\\aqily\\appdata\\local\\programs\\python\\python313\\lib\\site-packages (2.2.6)\n",
      "Note: you may need to restart the kernel to use updated packages.\n"
     ]
    }
   ],
   "source": [
    "pip install opencv-python numpy"
   ]
  },
  {
   "cell_type": "code",
   "execution_count": 16,
   "id": "c95a2c89",
   "metadata": {},
   "outputs": [],
   "source": [
    "import cv2\n",
    "import os\n",
    "from glob import glob"
   ]
  },
  {
   "cell_type": "code",
   "execution_count": 24,
   "id": "cf2b60fb",
   "metadata": {},
   "outputs": [],
   "source": [
    "#Path to the directory containing video files\n",
    "videos_dir = '../../Testing/Input/test1'\n",
    "#Path to the directory where all extracted frames will be saved\n",
    "output_root = '../../Testing/Output'\n",
    "#Choose the output image format: 'jpg', 'png', etc.\n",
    "img_format = 'jpg'"
   ]
  },
  {
   "cell_type": "code",
   "execution_count": 25,
   "id": "3fa4f9d7",
   "metadata": {},
   "outputs": [
    {
     "name": "stdout",
     "output_type": "stream",
     "text": [
      "Output frames will be saved to: ../../Testing/Output\\test1\n",
      "Total videos found: 2 \n",
      "\n",
      "Found video files:\n",
      "1. Hakari-Atsuko-Blue-Archive.mp4\n",
      "2. [Blue Archive] 4th PV Video (online-video-cutter.com).mp4\n"
     ]
    }
   ],
   "source": [
    "if not os.path.isdir(videos_dir):\n",
    "    raise FileNotFoundError(f\"Input directory not found: {videos_dir}\")\n",
    "if not os.path.isdir(output_root):\n",
    "    raise FileNotFoundError(f\"Output directory not found: {output_root}\")\n",
    "\n",
    "parent_folder = os.path.basename(os.path.normpath(videos_dir))\n",
    "out_dir = os.path.join(output_root, parent_folder)\n",
    "os.makedirs(out_dir, exist_ok=True)\n",
    "\n",
    "video_paths = []\n",
    "for ext in ('*.mp4', '*.avi', '*.mov', '*.mkv'):\n",
    "    video_paths.extend(glob(os.path.join(videos_dir, ext)))\n",
    "\n",
    "if not video_paths:\n",
    "    raise IOError(f\"No video files found in: {videos_dir}\")\n",
    "\n",
    "print(f\"Output frames will be saved to:\", out_dir)\n",
    "print(f\"Total videos found:\", len(video_paths), \"\\n\")\n",
    "print(\"Found video files:\")\n",
    "for i, vp in enumerate(video_paths, start=1):\n",
    "    print(f\"{i}. {os.path.basename(vp)}\")"
   ]
  },
  {
   "cell_type": "code",
   "execution_count": 26,
   "id": "214bb086",
   "metadata": {},
   "outputs": [
    {
     "name": "stdout",
     "output_type": "stream",
     "text": [
      "Hakari-Atsuko-Blue-Archive.mp4: 124 frames saved to ../../Testing/Output\\test1\n",
      "[Blue Archive] 4th PV Video (online-video-cutter.com).mp4: 35 frames saved to ../../Testing/Output\\test1\n"
     ]
    }
   ],
   "source": [
    "for vid_path in video_paths:\n",
    "    cap = cv2.VideoCapture(vid_path)\n",
    "    if not cap.isOpened():\n",
    "        print(\"Cannot open:\", vid_path, \"skipping.\")\n",
    "        continue\n",
    "\n",
    "    idx = 1\n",
    "    while True:\n",
    "        ret, frame = cap.read()\n",
    "        if not ret:\n",
    "            break\n",
    "        fname = f\"image_{idx}.{img_format}\"\n",
    "        cv2.imwrite(os.path.join(out_dir, fname), frame)\n",
    "        idx += 1\n",
    "\n",
    "    cap.release()\n",
    "    print(f\"{os.path.basename(vid_path)}: {idx-1} frames saved to {out_dir}\")"
   ]
  }
 ],
 "metadata": {
  "kernelspec": {
   "display_name": "Python 3",
   "language": "python",
   "name": "python3"
  },
  "language_info": {
   "codemirror_mode": {
    "name": "ipython",
    "version": 3
   },
   "file_extension": ".py",
   "mimetype": "text/x-python",
   "name": "python",
   "nbconvert_exporter": "python",
   "pygments_lexer": "ipython3",
   "version": "3.13.1"
  }
 },
 "nbformat": 4,
 "nbformat_minor": 5
}
